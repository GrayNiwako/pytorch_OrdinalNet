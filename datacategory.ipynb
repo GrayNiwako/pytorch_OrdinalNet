{
 "cells": [
  {
   "cell_type": "code",
   "execution_count": 2,
   "metadata": {
    "collapsed": true
   },
   "outputs": [],
   "source": [
    "import os\n",
    "from model import Config"
   ]
  },
  {
   "cell_type": "code",
   "execution_count": 6,
   "metadata": {},
   "outputs": [],
   "source": [
    "config=Config()\n",
    "class_list=config.classes_list\n",
    "# datadir=config.train_data_root\n",
    "# savepath=\"train_category.json\"\n",
    "datadir=config.val_data_root\n",
    "savepath=\"validation_category.json\""
   ]
  },
  {
   "cell_type": "code",
   "execution_count": 7,
   "metadata": {},
   "outputs": [
    {
     "data": {
      "text/plain": [
       "27693"
      ]
     },
     "execution_count": 7,
     "metadata": {},
     "output_type": "execute_result"
    }
   ],
   "source": [
    "img_paths,parent_names,labels=[],[],[]\n",
    "for i, annotation in enumerate(class_list):\n",
    "    dir = os.path.join(datadir, annotation)\n",
    "    fs = os.listdir(dir)\n",
    "    parent = [os.path.basename(f).split('_')[0] for f in fs]\n",
    "    fs = [os.path.join(dir, item) for item in fs]\n",
    "    img_paths.extend(fs)\n",
    "    parent_names.extend(parent)\n",
    "    labels.extend([i] * len(fs))\n",
    "\n",
    "len(img_paths)"
   ]
  },
  {
   "cell_type": "code",
   "execution_count": 8,
   "metadata": {},
   "outputs": [
    {
     "data": {
      "text/plain": [
       "3658"
      ]
     },
     "execution_count": 8,
     "metadata": {},
     "output_type": "execute_result"
    }
   ],
   "source": [
    "from collections import defaultdict\n",
    "img_dict=defaultdict(dict)\n",
    "for path,parent,label in zip(img_paths,parent_names,labels):\n",
    "    img_dict[parent][path]=label\n",
    "len(img_dict)"
   ]
  },
  {
   "cell_type": "code",
   "execution_count": 69,
   "metadata": {},
   "outputs": [
    {
     "name": "stdout",
     "output_type": "stream",
     "text": [
      "[{'id': '10235', 'subimage': [{'label': 0, 'path': 'I:\\\\ordinal_clouds\\\\separate_relabel\\\\validation\\\\A\\\\10235_5.jpg'}, {'label': 0, 'path': 'I:\\\\ordinal_clouds\\\\separate_relabel\\\\validation\\\\A\\\\10235_7.jpg'}, {'label': 1, 'path': 'I:\\\\ordinal_clouds\\\\separate_relabel\\\\validation\\\\B\\\\10235_0.jpg'}, {'label': 1, 'path': 'I:\\\\ordinal_clouds\\\\separate_relabel\\\\validation\\\\B\\\\10235_2.jpg'}, {'label': 1, 'path': 'I:\\\\ordinal_clouds\\\\separate_relabel\\\\validation\\\\B\\\\10235_3.jpg'}, {'label': 1, 'path': 'I:\\\\ordinal_clouds\\\\separate_relabel\\\\validation\\\\B\\\\10235_4.jpg'}, {'label': 1, 'path': 'I:\\\\ordinal_clouds\\\\separate_relabel\\\\validation\\\\B\\\\10235_6.jpg'}, {'label': 2, 'path': 'I:\\\\ordinal_clouds\\\\separate_relabel\\\\validation\\\\C\\\\10235_1.jpg'}]}]\n"
     ]
    }
   ],
   "source": [
    "list=[]\n",
    "for id,subimg in img_dict.items():\n",
    "    sublist=[]\n",
    "    for subpath,sublabel in subimg.items():\n",
    "        sublist.append({\"label\":sublabel,\"path\":subpath})\n",
    "    list.append({\"id\":id,\"subimage\":sublist})\n",
    "print(list[0:1])\n"
   ]
  },
  {
   "cell_type": "code",
   "execution_count": 70,
   "metadata": {},
   "outputs": [
    {
     "name": "stdout",
     "output_type": "stream",
     "text": [
      "['0', '1', '12', '34', '36', '38', '45', '65', '66', '70', '72', '73', '80', '83', '84', '88', '89', '91', '95', '96', '97', '272', '273', '276', '277', '278', '285', '291', '293', '294', '296', '298', '300', '302', '307', '308', '310', '458', '461', '463', '467', '468', '472', '478', '482', '488', '490', '491', '498', '501', '527', '528', '533', '535', '540', '541', '552', '553', '613', '627', '630', '638', '646', '691', '694', '700', '702', '703', '710', '717', '724', '735', '738', '764', '778', '779', '780', '782', '785', '796', '840', '842', '844', '849', '851', '854', '855', '860', '861', '877', '884', '935', '936', '938', '949', '963', '964', '969', '981', '995']\n['50858', '50859', '50935', '50944', '50953', '50957', '50960', '50967', '50972', '50973', '50975', '50983', '50984', '51076', '51081', '51082', '51086', '51091', '51099', '51100', '51112', '51117', '51122', '51123', '51280', '51281', '51285', '51291', '51293', '51295', '51296', '51297', '51303', '51304', '51306', '51314', '51316', '51319', '51321', '51324', '51481', '51485', '51490', '51491', '51493', '51494', '51503', '51506', '51519', '51525', '51645', '51646', '51665', '51668', '51677', '51679', '51685', '51687', '51690', '51808', '51811', '51815', '51823', '51829', '51832', '51835', '51837', '51839', '51840', '51841', '51845', '51849', '51853', '51937', '51942', '51945', '51946', '51947', '51949', '51953', '51954', '51958', '51962', '51974', '51975', '51979', '51982', '52117', '52118', '52119', '52120', '52129', '52131', '52133', '52135', '52139', '52145', '52151', '52155', '52158']\n"
     ]
    }
   ],
   "source": [
    "list=sorted(list,key=lambda x:int(x[\"id\"]),reverse=False)\n",
    "print([x[\"id\"] for x in list[0:100]])\n",
    "print([x[\"id\"] for x in list[-100:]])"
   ]
  },
  {
   "cell_type": "code",
   "execution_count": 71,
   "metadata": {},
   "outputs": [],
   "source": [
    "import json\n",
    "\n",
    "with open(savepath,'w+') as f:\n",
    "    json.dump(list,f)"
   ]
  },
  {
   "cell_type": "code",
   "execution_count": null,
   "metadata": {},
   "outputs": [],
   "source": [
    "\n"
   ]
  }
 ],
 "metadata": {
  "kernelspec": {
   "display_name": "Python 2",
   "language": "python",
   "name": "python2"
  },
  "language_info": {
   "codemirror_mode": {
    "name": "ipython",
    "version": 2
   },
   "file_extension": ".py",
   "mimetype": "text/x-python",
   "name": "python",
   "nbconvert_exporter": "python",
   "pygments_lexer": "ipython2",
   "version": "2.7.6"
  }
 },
 "nbformat": 4,
 "nbformat_minor": 0
}
